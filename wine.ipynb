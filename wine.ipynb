{
  "nbformat": 4,
  "nbformat_minor": 0,
  "metadata": {
    "colab": {
      "provenance": []
    },
    "kernelspec": {
      "name": "python3",
      "display_name": "Python 3"
    },
    "language_info": {
      "name": "python"
    }
  },
  "cells": [
    {
      "cell_type": "code",
      "execution_count": null,
      "metadata": {
        "id": "61YEbIlhwNjc"
      },
      "outputs": [],
      "source": [
        "# import all the required modules\n",
        "import pandas as pd\n",
        "import numpy as np\n",
        "from scipy import stats\n",
        "from scipy.stats import shapiro, levene, ttest_ind, mannwhitneyu, bartlett\n",
        "import matplotlib.pyplot as plt\n",
        "import seaborn as sns\n",
        "import statsmodels.api as sm"
      ]
    },
    {
      "cell_type": "markdown",
      "source": [
        "We want now to test the claim that wines with a higher quality rating have a higher median alcohol content than wines with a lower quality rating.\n",
        "We can follow the following steps to prove this claim;\n",
        "* Data preperation\n",
        "* Normality test\n",
        "* Homogeneity of Variance Test\n",
        "* Hypothesis Test\n",
        "\n",
        "\n"
      ],
      "metadata": {
        "id": "u9f-GmNUGzn9"
      }
    },
    {
      "cell_type": "code",
      "source": [
        "# load the dataset\n",
        "wine_df = pd.read_csv('/content/sample_data/winequality-red.csv', delimiter=';')"
      ],
      "metadata": {
        "id": "ppgfihUSHxnG"
      },
      "execution_count": null,
      "outputs": []
    },
    {
      "cell_type": "code",
      "source": [
        "# preview the first five\n",
        "wine_df.head()"
      ],
      "metadata": {
        "colab": {
          "base_uri": "https://localhost:8080/",
          "height": 285
        },
        "id": "es4pnmnwFQTB",
        "outputId": "95a6fa34-bdd6-43fd-f2f1-8a01d362d01e"
      },
      "execution_count": null,
      "outputs": [
        {
          "output_type": "execute_result",
          "data": {
            "text/plain": [
              "   fixed acidity  volatile acidity  citric acid  residual sugar  chlorides  \\\n",
              "0            7.4              0.70         0.00             1.9      0.076   \n",
              "1            7.8              0.88         0.00             2.6      0.098   \n",
              "2            7.8              0.76         0.04             2.3      0.092   \n",
              "3           11.2              0.28         0.56             1.9      0.075   \n",
              "4            7.4              0.70         0.00             1.9      0.076   \n",
              "\n",
              "   free sulfur dioxide  total sulfur dioxide  density    pH  sulphates  \\\n",
              "0                 11.0                  34.0   0.9978  3.51       0.56   \n",
              "1                 25.0                  67.0   0.9968  3.20       0.68   \n",
              "2                 15.0                  54.0   0.9970  3.26       0.65   \n",
              "3                 17.0                  60.0   0.9980  3.16       0.58   \n",
              "4                 11.0                  34.0   0.9978  3.51       0.56   \n",
              "\n",
              "   alcohol  quality  \n",
              "0      9.4        5  \n",
              "1      9.8        5  \n",
              "2      9.8        5  \n",
              "3      9.8        6  \n",
              "4      9.4        5  "
            ],
            "text/html": [
              "\n",
              "  <div id=\"df-d39b6a32-95ce-4049-9854-7812da25b17b\">\n",
              "    <div class=\"colab-df-container\">\n",
              "      <div>\n",
              "<style scoped>\n",
              "    .dataframe tbody tr th:only-of-type {\n",
              "        vertical-align: middle;\n",
              "    }\n",
              "\n",
              "    .dataframe tbody tr th {\n",
              "        vertical-align: top;\n",
              "    }\n",
              "\n",
              "    .dataframe thead th {\n",
              "        text-align: right;\n",
              "    }\n",
              "</style>\n",
              "<table border=\"1\" class=\"dataframe\">\n",
              "  <thead>\n",
              "    <tr style=\"text-align: right;\">\n",
              "      <th></th>\n",
              "      <th>fixed acidity</th>\n",
              "      <th>volatile acidity</th>\n",
              "      <th>citric acid</th>\n",
              "      <th>residual sugar</th>\n",
              "      <th>chlorides</th>\n",
              "      <th>free sulfur dioxide</th>\n",
              "      <th>total sulfur dioxide</th>\n",
              "      <th>density</th>\n",
              "      <th>pH</th>\n",
              "      <th>sulphates</th>\n",
              "      <th>alcohol</th>\n",
              "      <th>quality</th>\n",
              "    </tr>\n",
              "  </thead>\n",
              "  <tbody>\n",
              "    <tr>\n",
              "      <th>0</th>\n",
              "      <td>7.4</td>\n",
              "      <td>0.70</td>\n",
              "      <td>0.00</td>\n",
              "      <td>1.9</td>\n",
              "      <td>0.076</td>\n",
              "      <td>11.0</td>\n",
              "      <td>34.0</td>\n",
              "      <td>0.9978</td>\n",
              "      <td>3.51</td>\n",
              "      <td>0.56</td>\n",
              "      <td>9.4</td>\n",
              "      <td>5</td>\n",
              "    </tr>\n",
              "    <tr>\n",
              "      <th>1</th>\n",
              "      <td>7.8</td>\n",
              "      <td>0.88</td>\n",
              "      <td>0.00</td>\n",
              "      <td>2.6</td>\n",
              "      <td>0.098</td>\n",
              "      <td>25.0</td>\n",
              "      <td>67.0</td>\n",
              "      <td>0.9968</td>\n",
              "      <td>3.20</td>\n",
              "      <td>0.68</td>\n",
              "      <td>9.8</td>\n",
              "      <td>5</td>\n",
              "    </tr>\n",
              "    <tr>\n",
              "      <th>2</th>\n",
              "      <td>7.8</td>\n",
              "      <td>0.76</td>\n",
              "      <td>0.04</td>\n",
              "      <td>2.3</td>\n",
              "      <td>0.092</td>\n",
              "      <td>15.0</td>\n",
              "      <td>54.0</td>\n",
              "      <td>0.9970</td>\n",
              "      <td>3.26</td>\n",
              "      <td>0.65</td>\n",
              "      <td>9.8</td>\n",
              "      <td>5</td>\n",
              "    </tr>\n",
              "    <tr>\n",
              "      <th>3</th>\n",
              "      <td>11.2</td>\n",
              "      <td>0.28</td>\n",
              "      <td>0.56</td>\n",
              "      <td>1.9</td>\n",
              "      <td>0.075</td>\n",
              "      <td>17.0</td>\n",
              "      <td>60.0</td>\n",
              "      <td>0.9980</td>\n",
              "      <td>3.16</td>\n",
              "      <td>0.58</td>\n",
              "      <td>9.8</td>\n",
              "      <td>6</td>\n",
              "    </tr>\n",
              "    <tr>\n",
              "      <th>4</th>\n",
              "      <td>7.4</td>\n",
              "      <td>0.70</td>\n",
              "      <td>0.00</td>\n",
              "      <td>1.9</td>\n",
              "      <td>0.076</td>\n",
              "      <td>11.0</td>\n",
              "      <td>34.0</td>\n",
              "      <td>0.9978</td>\n",
              "      <td>3.51</td>\n",
              "      <td>0.56</td>\n",
              "      <td>9.4</td>\n",
              "      <td>5</td>\n",
              "    </tr>\n",
              "  </tbody>\n",
              "</table>\n",
              "</div>\n",
              "      <button class=\"colab-df-convert\" onclick=\"convertToInteractive('df-d39b6a32-95ce-4049-9854-7812da25b17b')\"\n",
              "              title=\"Convert this dataframe to an interactive table.\"\n",
              "              style=\"display:none;\">\n",
              "        \n",
              "  <svg xmlns=\"http://www.w3.org/2000/svg\" height=\"24px\"viewBox=\"0 0 24 24\"\n",
              "       width=\"24px\">\n",
              "    <path d=\"M0 0h24v24H0V0z\" fill=\"none\"/>\n",
              "    <path d=\"M18.56 5.44l.94 2.06.94-2.06 2.06-.94-2.06-.94-.94-2.06-.94 2.06-2.06.94zm-11 1L8.5 8.5l.94-2.06 2.06-.94-2.06-.94L8.5 2.5l-.94 2.06-2.06.94zm10 10l.94 2.06.94-2.06 2.06-.94-2.06-.94-.94-2.06-.94 2.06-2.06.94z\"/><path d=\"M17.41 7.96l-1.37-1.37c-.4-.4-.92-.59-1.43-.59-.52 0-1.04.2-1.43.59L10.3 9.45l-7.72 7.72c-.78.78-.78 2.05 0 2.83L4 21.41c.39.39.9.59 1.41.59.51 0 1.02-.2 1.41-.59l7.78-7.78 2.81-2.81c.8-.78.8-2.07 0-2.86zM5.41 20L4 18.59l7.72-7.72 1.47 1.35L5.41 20z\"/>\n",
              "  </svg>\n",
              "      </button>\n",
              "      \n",
              "  <style>\n",
              "    .colab-df-container {\n",
              "      display:flex;\n",
              "      flex-wrap:wrap;\n",
              "      gap: 12px;\n",
              "    }\n",
              "\n",
              "    .colab-df-convert {\n",
              "      background-color: #E8F0FE;\n",
              "      border: none;\n",
              "      border-radius: 50%;\n",
              "      cursor: pointer;\n",
              "      display: none;\n",
              "      fill: #1967D2;\n",
              "      height: 32px;\n",
              "      padding: 0 0 0 0;\n",
              "      width: 32px;\n",
              "    }\n",
              "\n",
              "    .colab-df-convert:hover {\n",
              "      background-color: #E2EBFA;\n",
              "      box-shadow: 0px 1px 2px rgba(60, 64, 67, 0.3), 0px 1px 3px 1px rgba(60, 64, 67, 0.15);\n",
              "      fill: #174EA6;\n",
              "    }\n",
              "\n",
              "    [theme=dark] .colab-df-convert {\n",
              "      background-color: #3B4455;\n",
              "      fill: #D2E3FC;\n",
              "    }\n",
              "\n",
              "    [theme=dark] .colab-df-convert:hover {\n",
              "      background-color: #434B5C;\n",
              "      box-shadow: 0px 1px 3px 1px rgba(0, 0, 0, 0.15);\n",
              "      filter: drop-shadow(0px 1px 2px rgba(0, 0, 0, 0.3));\n",
              "      fill: #FFFFFF;\n",
              "    }\n",
              "  </style>\n",
              "\n",
              "      <script>\n",
              "        const buttonEl =\n",
              "          document.querySelector('#df-d39b6a32-95ce-4049-9854-7812da25b17b button.colab-df-convert');\n",
              "        buttonEl.style.display =\n",
              "          google.colab.kernel.accessAllowed ? 'block' : 'none';\n",
              "\n",
              "        async function convertToInteractive(key) {\n",
              "          const element = document.querySelector('#df-d39b6a32-95ce-4049-9854-7812da25b17b');\n",
              "          const dataTable =\n",
              "            await google.colab.kernel.invokeFunction('convertToInteractive',\n",
              "                                                     [key], {});\n",
              "          if (!dataTable) return;\n",
              "\n",
              "          const docLinkHtml = 'Like what you see? Visit the ' +\n",
              "            '<a target=\"_blank\" href=https://colab.research.google.com/notebooks/data_table.ipynb>data table notebook</a>'\n",
              "            + ' to learn more about interactive tables.';\n",
              "          element.innerHTML = '';\n",
              "          dataTable['output_type'] = 'display_data';\n",
              "          await google.colab.output.renderOutput(dataTable, element);\n",
              "          const docLink = document.createElement('div');\n",
              "          docLink.innerHTML = docLinkHtml;\n",
              "          element.appendChild(docLink);\n",
              "        }\n",
              "      </script>\n",
              "    </div>\n",
              "  </div>\n",
              "  "
            ]
          },
          "metadata": {},
          "execution_count": 55
        }
      ]
    },
    {
      "cell_type": "markdown",
      "source": [
        "We now extract the relevant columns 'quality' and 'alcohol'.\n",
        "We convert 'quality' column into categorical values by binning the values into two groups; 'high quality' & 'low quality'\n"
      ],
      "metadata": {
        "id": "g33DmQoTKCbr"
      }
    },
    {
      "cell_type": "code",
      "source": [
        "wine_df['quality_category'] = np.where(wine_df['quality'] > np.median(wine_df['quality']), 'high quality', 'low quality')\n",
        "wine_alcohol_df = wine_df[['quality_category', 'alcohol']]\n",
        "wine_alcohol_df.head()"
      ],
      "metadata": {
        "colab": {
          "base_uri": "https://localhost:8080/",
          "height": 206
        },
        "id": "qMsnLVncKJ1E",
        "outputId": "7a8e91bf-8b1e-44b1-b6fb-17e18f6b573e"
      },
      "execution_count": null,
      "outputs": [
        {
          "output_type": "execute_result",
          "data": {
            "text/plain": [
              "  quality_category  alcohol\n",
              "0      low quality      9.4\n",
              "1      low quality      9.8\n",
              "2      low quality      9.8\n",
              "3      low quality      9.8\n",
              "4      low quality      9.4"
            ],
            "text/html": [
              "\n",
              "  <div id=\"df-8a0e5cd8-7893-48f5-81c0-c33fd4f154b2\">\n",
              "    <div class=\"colab-df-container\">\n",
              "      <div>\n",
              "<style scoped>\n",
              "    .dataframe tbody tr th:only-of-type {\n",
              "        vertical-align: middle;\n",
              "    }\n",
              "\n",
              "    .dataframe tbody tr th {\n",
              "        vertical-align: top;\n",
              "    }\n",
              "\n",
              "    .dataframe thead th {\n",
              "        text-align: right;\n",
              "    }\n",
              "</style>\n",
              "<table border=\"1\" class=\"dataframe\">\n",
              "  <thead>\n",
              "    <tr style=\"text-align: right;\">\n",
              "      <th></th>\n",
              "      <th>quality_category</th>\n",
              "      <th>alcohol</th>\n",
              "    </tr>\n",
              "  </thead>\n",
              "  <tbody>\n",
              "    <tr>\n",
              "      <th>0</th>\n",
              "      <td>low quality</td>\n",
              "      <td>9.4</td>\n",
              "    </tr>\n",
              "    <tr>\n",
              "      <th>1</th>\n",
              "      <td>low quality</td>\n",
              "      <td>9.8</td>\n",
              "    </tr>\n",
              "    <tr>\n",
              "      <th>2</th>\n",
              "      <td>low quality</td>\n",
              "      <td>9.8</td>\n",
              "    </tr>\n",
              "    <tr>\n",
              "      <th>3</th>\n",
              "      <td>low quality</td>\n",
              "      <td>9.8</td>\n",
              "    </tr>\n",
              "    <tr>\n",
              "      <th>4</th>\n",
              "      <td>low quality</td>\n",
              "      <td>9.4</td>\n",
              "    </tr>\n",
              "  </tbody>\n",
              "</table>\n",
              "</div>\n",
              "      <button class=\"colab-df-convert\" onclick=\"convertToInteractive('df-8a0e5cd8-7893-48f5-81c0-c33fd4f154b2')\"\n",
              "              title=\"Convert this dataframe to an interactive table.\"\n",
              "              style=\"display:none;\">\n",
              "        \n",
              "  <svg xmlns=\"http://www.w3.org/2000/svg\" height=\"24px\"viewBox=\"0 0 24 24\"\n",
              "       width=\"24px\">\n",
              "    <path d=\"M0 0h24v24H0V0z\" fill=\"none\"/>\n",
              "    <path d=\"M18.56 5.44l.94 2.06.94-2.06 2.06-.94-2.06-.94-.94-2.06-.94 2.06-2.06.94zm-11 1L8.5 8.5l.94-2.06 2.06-.94-2.06-.94L8.5 2.5l-.94 2.06-2.06.94zm10 10l.94 2.06.94-2.06 2.06-.94-2.06-.94-.94-2.06-.94 2.06-2.06.94z\"/><path d=\"M17.41 7.96l-1.37-1.37c-.4-.4-.92-.59-1.43-.59-.52 0-1.04.2-1.43.59L10.3 9.45l-7.72 7.72c-.78.78-.78 2.05 0 2.83L4 21.41c.39.39.9.59 1.41.59.51 0 1.02-.2 1.41-.59l7.78-7.78 2.81-2.81c.8-.78.8-2.07 0-2.86zM5.41 20L4 18.59l7.72-7.72 1.47 1.35L5.41 20z\"/>\n",
              "  </svg>\n",
              "      </button>\n",
              "      \n",
              "  <style>\n",
              "    .colab-df-container {\n",
              "      display:flex;\n",
              "      flex-wrap:wrap;\n",
              "      gap: 12px;\n",
              "    }\n",
              "\n",
              "    .colab-df-convert {\n",
              "      background-color: #E8F0FE;\n",
              "      border: none;\n",
              "      border-radius: 50%;\n",
              "      cursor: pointer;\n",
              "      display: none;\n",
              "      fill: #1967D2;\n",
              "      height: 32px;\n",
              "      padding: 0 0 0 0;\n",
              "      width: 32px;\n",
              "    }\n",
              "\n",
              "    .colab-df-convert:hover {\n",
              "      background-color: #E2EBFA;\n",
              "      box-shadow: 0px 1px 2px rgba(60, 64, 67, 0.3), 0px 1px 3px 1px rgba(60, 64, 67, 0.15);\n",
              "      fill: #174EA6;\n",
              "    }\n",
              "\n",
              "    [theme=dark] .colab-df-convert {\n",
              "      background-color: #3B4455;\n",
              "      fill: #D2E3FC;\n",
              "    }\n",
              "\n",
              "    [theme=dark] .colab-df-convert:hover {\n",
              "      background-color: #434B5C;\n",
              "      box-shadow: 0px 1px 3px 1px rgba(0, 0, 0, 0.15);\n",
              "      filter: drop-shadow(0px 1px 2px rgba(0, 0, 0, 0.3));\n",
              "      fill: #FFFFFF;\n",
              "    }\n",
              "  </style>\n",
              "\n",
              "      <script>\n",
              "        const buttonEl =\n",
              "          document.querySelector('#df-8a0e5cd8-7893-48f5-81c0-c33fd4f154b2 button.colab-df-convert');\n",
              "        buttonEl.style.display =\n",
              "          google.colab.kernel.accessAllowed ? 'block' : 'none';\n",
              "\n",
              "        async function convertToInteractive(key) {\n",
              "          const element = document.querySelector('#df-8a0e5cd8-7893-48f5-81c0-c33fd4f154b2');\n",
              "          const dataTable =\n",
              "            await google.colab.kernel.invokeFunction('convertToInteractive',\n",
              "                                                     [key], {});\n",
              "          if (!dataTable) return;\n",
              "\n",
              "          const docLinkHtml = 'Like what you see? Visit the ' +\n",
              "            '<a target=\"_blank\" href=https://colab.research.google.com/notebooks/data_table.ipynb>data table notebook</a>'\n",
              "            + ' to learn more about interactive tables.';\n",
              "          element.innerHTML = '';\n",
              "          dataTable['output_type'] = 'display_data';\n",
              "          await google.colab.output.renderOutput(dataTable, element);\n",
              "          const docLink = document.createElement('div');\n",
              "          docLink.innerHTML = docLinkHtml;\n",
              "          element.appendChild(docLink);\n",
              "        }\n",
              "      </script>\n",
              "    </div>\n",
              "  </div>\n",
              "  "
            ]
          },
          "metadata": {},
          "execution_count": 56
        }
      ]
    },
    {
      "cell_type": "markdown",
      "source": [
        "### Perform a normality test\n",
        "By either;\n",
        "* Plotting\n",
        "* normtest()\n",
        "* Shapiro-Wilk Test\n",
        "* Q-Q plots\n"
      ],
      "metadata": {
        "id": "FUel302uLQ27"
      }
    },
    {
      "cell_type": "code",
      "source": [
        "from pandas.io.formats import style\n",
        "# Plotting\n",
        "high_quality_alcohol = wine_alcohol_df[wine_alcohol_df['quality_category'] == 'high quality']['alcohol']\n",
        "low_quality_alcohol = wine_alcohol_df[wine_alcohol_df['quality_category'] == 'low quality']['alcohol']\n",
        "\n",
        "fig, ax = plt.subplots(1,2, figsize=(10,4))\n",
        "sns.histplot(high_quality_alcohol, kde=True, stat='density', kde_kws=dict(cut=3), ax=ax[0])\n",
        "sns.histplot(low_quality_alcohol, kde=True, stat='density', kde_kws=dict(cut=3), ax=ax[1])\n",
        "ax[0].set_title('High Quality Wine Distribution')\n",
        "ax[1].set_title('Low Quality Wine Distribution')\n",
        "plt.show()"
      ],
      "metadata": {
        "colab": {
          "base_uri": "https://localhost:8080/",
          "height": 410
        },
        "id": "dQKrli61Lm3w",
        "outputId": "e5b09df5-36c2-479b-afac-ebf5026e6dda"
      },
      "execution_count": null,
      "outputs": [
        {
          "output_type": "display_data",
          "data": {
            "text/plain": [
              "<Figure size 1000x400 with 2 Axes>"
            ],
            "image/png": "[encoded data removed]"
          },
          "metadata": {}
        }
      ]
    },
    {
      "cell_type": "markdown",
      "source": [
        "From the above plots, it is evident that the high quality wine data is normally distributed as the shape of the histogram and its corresponding cdf line show a bell shaped distribution. \n",
        "The dataset for low quality wine is skewed to the right. This can be clearly seen where we have a longer tail to the right."
      ],
      "metadata": {
        "id": "q0RwlvHUN3YA"
      }
    },
    {
      "cell_type": "code",
      "source": [
        "# Testing the same using the normtest()\n",
        "high_quality_normaltest_result = stats.normaltest(high_quality_alcohol)\n",
        "low_quality_normaltest_result = stats.normaltest(low_quality_alcohol)\n",
        "p_value_highq = high_quality_normaltest_result[1]\n",
        "p_value_lowq = low_quality_normaltest_result[1]\n",
        "\n",
        "if p_value_highq < 0.05:\n",
        "  print(f'Since {p_value_highq} < 0.05,  The high quality wine data is not normally distributed:')\n",
        "else:\n",
        "  print('The high quality wine dataset is normally distributed:')\n",
        "if p_value_highq < 0.05:\n",
        "  print(f'Since {p_value_lowq} < 0.05, The low quality wine data is not normally distributed:')\n",
        "else:\n",
        "  print('The low quality wine dataset is normally distributed:')"
      ],
      "metadata": {
        "colab": {
          "base_uri": "https://localhost:8080/"
        },
        "id": "ULPBiZ1BOs7k",
        "outputId": "d2d76cb6-a6ee-4b65-ac5b-31d7614f1390"
      },
      "execution_count": null,
      "outputs": [
        {
          "output_type": "stream",
          "name": "stdout",
          "text": [
            "The high quality wine dataset is normally distributed:\n",
            "The low quality wine dataset is normally distributed:\n"
          ]
        }
      ]
    },
    {
      "cell_type": "code",
      "source": [
        "# The shapiro-Wilk Test\n",
        "print(\"High Quality Shapiro Results:\", shapiro(high_quality_alcohol))\n",
        "print(\"High Quality Shapiro Results:\", shapiro(low_quality_alcohol))\n",
        "\n",
        "p_value_shapiro_high = shapiro(high_quality_alcohol)[1]\n",
        "p_value_shapiro_low = shapiro(low_quality_alcohol)[1]\n"
      ],
      "metadata": {
        "colab": {
          "base_uri": "https://localhost:8080/"
        },
        "id": "YrYpiXT2RQ33",
        "outputId": "42a4a376-490c-48eb-9dca-f4e27854aba7"
      },
      "execution_count": null,
      "outputs": [
        {
          "output_type": "stream",
          "name": "stdout",
          "text": [
            "High Quality Shapiro Results: ShapiroResult(statistic=0.9914323687553406, pvalue=0.23225747048854828)\n",
            "High Quality Shapiro Results: ShapiroResult(statistic=0.9142929911613464, pvalue=3.003795319284013e-27)\n"
          ]
        }
      ]
    },
    {
      "cell_type": "code",
      "source": [
        "if p_value_shapiro_high < 0.05:\n",
        "  print(f'Since {p_value_shapiro_high} < 0.05,  The high quality wine data is not normally distributed')\n",
        "else:\n",
        "  print('The high quality wine dataset is normally distributed:')\n",
        "if p_value_shapiro_low < 0.05:\n",
        "  print(f'Since {p_value_shapiro_low} < 0.05, The low quality wine data is not normally distributed')\n",
        "else:\n",
        "  print('The low quality wine dataset is normally distributed:')"
      ],
      "metadata": {
        "colab": {
          "base_uri": "https://localhost:8080/"
        },
        "id": "JocdovN8U1CH",
        "outputId": "5cc17265-43e9-4bdb-fb21-d12fbe585e0e"
      },
      "execution_count": null,
      "outputs": [
        {
          "output_type": "stream",
          "name": "stdout",
          "text": [
            "The high quality wine dataset is normally distributed:\n",
            "Since 3.003795319284013e-27 < 0.05, The low quality wine data is not normally distributed\n"
          ]
        }
      ]
    },
    {
      "cell_type": "code",
      "source": [
        "# Q_Q Plots \n",
        "fig, ax = plt.subplots(1,2, figsize=(10,4))\n",
        "sm.qqplot(high_quality_alcohol, line='s', ax=ax[0])\n",
        "ax[0].set_title('Q-Q plot for High Quality Wine')\n",
        "sm.qqplot(low_quality_alcohol, line='s', ax=ax[1])\n",
        "ax[1].set_title('Q-Q plot for Low Quality Wine')\n",
        "\n",
        "plt.show()"
      ],
      "metadata": {
        "colab": {
          "base_uri": "https://localhost:8080/",
          "height": 410
        },
        "id": "8ztQmgzgVg3b",
        "outputId": "7e12f389-a6e8-487e-d2a7-ba5a807bcae2"
      },
      "execution_count": null,
      "outputs": [
        {
          "output_type": "display_data",
          "data": {
            "text/plain": [
              "<Figure size 1000x400 with 2 Axes>"
            ],
            "image/png": "[encoded data removed]"
          },
          "metadata": {}
        }
      ]
    },
    {
      "cell_type": "markdown",
      "source": [
        "From the above Q-Q plots we can see that the high quality wine data points are closer to the red line, which indicates that the data is normally distributed\n",
        "\n",
        "In the second plot, the low quality wine data points are slighly far from the red line, which indicates that the data is not normally distributed"
      ],
      "metadata": {
        "id": "128Ezcurg5-Z"
      }
    },
    {
      "cell_type": "markdown",
      "source": [
        "### Homegeneity of Variances\n",
        "* Levene Test\n",
        "* Bartlett Test\n",
        "* Boxplot\n"
      ],
      "metadata": {
        "id": "PwacRKhpWuhQ"
      }
    },
    {
      "cell_type": "code",
      "source": [
        "# Levene Test\n",
        "print('Levene Test Results: ', levene(high_quality_alcohol, low_quality_alcohol))\n",
        "p_value_levene_test = levene(high_quality_alcohol, low_quality_alcohol)[1]\n",
        "if p_value_levene_test < 0.05:\n",
        "  print('Since', round(p_value_levene_test, 2), '< 0.05, We can conclude that high quality and low quality wine data are not significantly different from each other')\n",
        "else:\n",
        "  print('Since ', round(p_value_levene_test, 2), ' > 0.05 , We can conclude that high quality and low quality wine data are significantly different.')"
      ],
      "metadata": {
        "colab": {
          "base_uri": "https://localhost:8080/"
        },
        "id": "oP8QMgxCWs6p",
        "outputId": "4fbd3763-f6d8-4047-fb76-703f62dfba40"
      },
      "execution_count": null,
      "outputs": [
        {
          "output_type": "stream",
          "name": "stdout",
          "text": [
            "Levene Test Results:  LeveneResult(statistic=1.4506052991623122, pvalue=0.2286093177882187)\n",
            "Since  0.23  > 0.05 , We can conclude that high quality and low quality wine data are significantly different.\n"
          ]
        }
      ]
    },
    {
      "cell_type": "code",
      "source": [
        "# Bartletts Test\n",
        "stats, p_value_bartletts = bartlett(high_quality_alcohol, low_quality_alcohol)\n",
        "if p_value_bartletts < 0.05:\n",
        "  print('Since', round(p_value_bartletts, 2),  '< 0.05, We can conclude that high quality and low quality wine data are not significantly different from each other')\n",
        "else:\n",
        "  print('Since ', round(p_value_bartletts, 2), ' > 0.05 , We can conclude that high quality and low quality wine data are significantly different.')"
      ],
      "metadata": {
        "colab": {
          "base_uri": "https://localhost:8080/"
        },
        "id": "OPRtErHUa0Et",
        "outputId": "8c4386c6-37c3-4a47-dd8b-0a2ac7f94690"
      },
      "execution_count": null,
      "outputs": [
        {
          "output_type": "stream",
          "name": "stdout",
          "text": [
            "Since  0.57  > 0.05 , We can conclude that high quality and low quality wine data are significantly different.\n"
          ]
        }
      ]
    },
    {
      "cell_type": "code",
      "source": [
        "# Boxplot\n",
        "fig, ax = plt.subplots(figsize=(10,4))\n",
        "sns.boxplot(x='quality_category', y='alcohol', data=wine_alcohol_df, ax = ax)\n",
        "ax.set_title(' Boxplot for Alcohol content by Quality')\n",
        "\n",
        "plt.show()"
      ],
      "metadata": {
        "colab": {
          "base_uri": "https://localhost:8080/",
          "height": 410
        },
        "id": "1shVuzQLch4i",
        "outputId": "8dcf161a-e665-4559-d2fe-3451b2ee06c6"
      },
      "execution_count": null,
      "outputs": [
        {
          "output_type": "display_data",
          "data": {
            "text/plain": [
              "<Figure size 1000x400 with 1 Axes>"
            ],
            "image/png": "[encoded data removed]"
          },
          "metadata": {}
        }
      ]
    },
    {
      "cell_type": "markdown",
      "source": [
        "### Testing the hypothesis\n",
        "H0: wines with a higher quality rating have the same median alcohol content as wines with a lower quality rating.\n",
        "\n",
        "Ha: wines with a higher quality rating have a higher median alcohol content than wines with a lower quality rating."
      ],
      "metadata": {
        "id": "E1MaWG8Sdtxg"
      }
    },
    {
      "cell_type": "code",
      "source": [
        "# t_test_ind\n",
        "stats, p_value_ttest = ttest_ind(high_quality_alcohol, low_quality_alcohol)\n",
        "if p_value_ttest < 0.05:\n",
        "  print('Since', p_value_ttest, '< 0.05, We reject the null hypothesis and therefore conclude that \\\n",
        "wines with a higher quality rating have a higher median alcohol content than wines with lower quality rating')\n",
        "else:\n",
        "  print('Fail to reject the null hypothesis.')"
      ],
      "metadata": {
        "colab": {
          "base_uri": "https://localhost:8080/"
        },
        "id": "__RlJOQndtHU",
        "outputId": "f9712297-64e3-4229-97a0-1d642f6cf772"
      },
      "execution_count": null,
      "outputs": [
        {
          "output_type": "stream",
          "name": "stdout",
          "text": [
            "Since 6.016774226316707e-65 < 0.05, We reject the null hypothesis and therefore conclude that wines with a higher quality rating have a higher median alcohol content than wines with lower quality rating\n"
          ]
        }
      ]
    },
    {
      "cell_type": "code",
      "source": [
        "# mannwhitneyu Test\n",
        "stats, p_value_mannwhitney = mannwhitneyu(high_quality_alcohol, low_quality_alcohol)\n",
        "if p_value_mannwhitney < 0.05:\n",
        "  print('Since', p_value_mannwhitney, '< 0.05, We reject the null hypothesis and therefore conclude that \\\n",
        "wines with a higher quality rating have a higher median alcohol content than wines with lower quality rating')\n",
        "else:\n",
        "  print('Fail to reject the null hypothesis.')"
      ],
      "metadata": {
        "colab": {
          "base_uri": "https://localhost:8080/"
        },
        "id": "Ewde7IEAfscm",
        "outputId": "02ccecaa-0cdf-4dfd-ac12-bf84e107f7d1"
      },
      "execution_count": null,
      "outputs": [
        {
          "output_type": "stream",
          "name": "stdout",
          "text": [
            "Since 6.836147289253184e-53 < 0.05, We reject the null hypothesis and therefore conclude that wines with a higher quality rating have a higher median alcohol content than wines with lower quality rating\n"
          ]
        }
      ]
    },
    {
      "cell_type": "markdown",
      "source": [
        "### Conclusion\n",
        "Based on the above statistical tests, we can reject the null hypothesis and conclude that wines with a higher quality rating have a higher median alcohol content than wines with a lower quality rating."
      ],
      "metadata": {
        "id": "jlY1L8FDgRau"
      }
    }
  ]
}